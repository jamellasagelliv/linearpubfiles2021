{
  "nbformat": 4,
  "nbformat_minor": 0,
  "metadata": {
    "colab": {
      "name": "Assignment2.ipynb",
      "provenance": [],
      "collapsed_sections": [
        "iBmr5vusGsYY",
        "lvp0dgd1IDiW"
      ],
      "authorship_tag": "ABX9TyN+g42ua1MDjz3TFtKWSKQy",
      "include_colab_link": true
    },
    "kernelspec": {
      "name": "python3",
      "display_name": "Python 3"
    },
    "language_info": {
      "name": "python"
    }
  },
  "cells": [
    {
      "cell_type": "markdown",
      "metadata": {
        "id": "view-in-github",
        "colab_type": "text"
      },
      "source": [
        "<a href=\"https://colab.research.google.com/github/jamellasagelliv/linearpubfiles2021/blob/main/Assignment2.ipynb\" target=\"_parent\"><img src=\"https://colab.research.google.com/assets/colab-badge.svg\" alt=\"Open In Colab\"/></a>"
      ]
    },
    {
      "cell_type": "markdown",
      "metadata": {
        "id": "6Yue5jWY98dG"
      },
      "source": [
        "### Welcome to Python Fundamentals\n",
        "\n",
        "In this module, we aregoing to establish our skills in Python programming. In this notebook we are going to cover:\n",
        "\n",
        "\n",
        "\n",
        "*   Variables and data Types\n",
        "*   Operation\n",
        "\n",
        "*   Input and Ouput Operation\n",
        "*   Logic Control\n",
        "\n",
        "*   Interables\n",
        "*   Functions\n",
        "\n",
        "\n"
      ]
    },
    {
      "cell_type": "markdown",
      "metadata": {
        "id": "eC74h3gS_dX-"
      },
      "source": [
        "### Variables and Data Types\n",
        "\n",
        "Variables and data types are the values that change in Python, as the name implies. A variable is a memory location where you store a value in a programming language. According to the requirements, the value you've saved may change in the future."
      ]
    },
    {
      "cell_type": "code",
      "metadata": {
        "colab": {
          "base_uri": "https://localhost:8080/"
        },
        "id": "9XYDBQv09qXN",
        "outputId": "955a5f1d-e6a1-4676-cfa2-1cd0a9cce186"
      },
      "source": [
        "x = 1\n",
        "a, b = 1, -2\n",
        "b"
      ],
      "execution_count": null,
      "outputs": [
        {
          "output_type": "execute_result",
          "data": {
            "text/plain": [
              "-2"
            ]
          },
          "metadata": {},
          "execution_count": 3
        }
      ]
    },
    {
      "cell_type": "code",
      "metadata": {
        "colab": {
          "base_uri": "https://localhost:8080/"
        },
        "id": "rhGpjOI2BZFO",
        "outputId": "96c993a0-f216-46f0-b94d-02a7cbb9ed46"
      },
      "source": [
        "type (x)"
      ],
      "execution_count": null,
      "outputs": [
        {
          "output_type": "execute_result",
          "data": {
            "text/plain": [
              "int"
            ]
          },
          "metadata": {},
          "execution_count": 9
        }
      ]
    },
    {
      "cell_type": "code",
      "metadata": {
        "colab": {
          "base_uri": "https://localhost:8080/"
        },
        "id": "jH1gMyv2BpiT",
        "outputId": "081ec2db-5e8b-450d-ff91-054fccd79268"
      },
      "source": [
        "y = 3.0\n",
        "type (y)"
      ],
      "execution_count": null,
      "outputs": [
        {
          "output_type": "execute_result",
          "data": {
            "text/plain": [
              "float"
            ]
          },
          "metadata": {},
          "execution_count": 10
        }
      ]
    },
    {
      "cell_type": "code",
      "metadata": {
        "colab": {
          "base_uri": "https://localhost:8080/"
        },
        "id": "MdBxZh7XB2jt",
        "outputId": "512fd02e-064d-4a2e-f0c9-8c965ed7ba10"
      },
      "source": [
        "x = float(x)\n",
        "type(x)\n",
        "x"
      ],
      "execution_count": null,
      "outputs": [
        {
          "output_type": "execute_result",
          "data": {
            "text/plain": [
              "1.0"
            ]
          },
          "metadata": {},
          "execution_count": 12
        }
      ]
    },
    {
      "cell_type": "code",
      "metadata": {
        "colab": {
          "base_uri": "https://localhost:8080/"
        },
        "id": "nCGTSMO5B_-L",
        "outputId": "d9e1500c-f314-4452-d284-69967d3b6b8a"
      },
      "source": [
        "s, t, u = \"1\", \"3\", 'three'\n",
        "type(u)"
      ],
      "execution_count": null,
      "outputs": [
        {
          "output_type": "execute_result",
          "data": {
            "text/plain": [
              "str"
            ]
          },
          "metadata": {},
          "execution_count": 14
        }
      ]
    },
    {
      "cell_type": "markdown",
      "metadata": {
        "id": "sAw8KefwCfQ2"
      },
      "source": [
        "### Operation"
      ]
    },
    {
      "cell_type": "markdown",
      "metadata": {
        "id": "Xq2UM7XwCijt"
      },
      "source": [
        "Arithmetic\n",
        "\n",
        "Addition (+), subtraction (-), multiplication (), division (/), exponent (*), floor division (//), and modulus are the arithmetic operators ( percent ). The first four are quite straightforward: addition, subtraction, multiplication, and division, all of which you should be familiar with."
      ]
    },
    {
      "cell_type": "code",
      "metadata": {
        "id": "0F_cffFmClnH"
      },
      "source": [
        "w, x, y, z = 4.0, -3.0, 2, -32"
      ],
      "execution_count": null,
      "outputs": []
    },
    {
      "cell_type": "code",
      "metadata": {
        "id": "OSAn8AHoC_9w"
      },
      "source": [
        "### Addition \n",
        "S = w + x"
      ],
      "execution_count": null,
      "outputs": []
    },
    {
      "cell_type": "code",
      "metadata": {
        "id": "LK1XTp_9DKUC"
      },
      "source": [
        "### Subtraction\n",
        "D = y - z"
      ],
      "execution_count": null,
      "outputs": []
    },
    {
      "cell_type": "code",
      "metadata": {
        "id": "dyR1D0x8DRkT"
      },
      "source": [
        "### Multiplication\n",
        "P = w*z"
      ],
      "execution_count": null,
      "outputs": []
    },
    {
      "cell_type": "code",
      "metadata": {
        "colab": {
          "base_uri": "https://localhost:8080/"
        },
        "id": "HbuWmWWgDc77",
        "outputId": "6169cdc7-fe61-484d-a54d-e0c11571424c"
      },
      "source": [
        "### Division\n",
        "Q = y/x\n",
        "Q"
      ],
      "execution_count": null,
      "outputs": [
        {
          "output_type": "execute_result",
          "data": {
            "text/plain": [
              "-0.6666666666666666"
            ]
          },
          "metadata": {},
          "execution_count": 20
        }
      ]
    },
    {
      "cell_type": "code",
      "metadata": {
        "colab": {
          "base_uri": "https://localhost:8080/"
        },
        "id": "lJ93uWfyDi3z",
        "outputId": "771264bf-9b2a-4835-a539-35ca6ecb8592"
      },
      "source": [
        "### Floor Division\n",
        "Qf = w//z\n",
        "Qf"
      ],
      "execution_count": null,
      "outputs": [
        {
          "output_type": "execute_result",
          "data": {
            "text/plain": [
              "-1.0"
            ]
          },
          "metadata": {},
          "execution_count": 26
        }
      ]
    },
    {
      "cell_type": "code",
      "metadata": {
        "colab": {
          "base_uri": "https://localhost:8080/"
        },
        "id": "1FNCAIOVEdS1",
        "outputId": "2f636cf6-1b55-4f82-9ff1-c16076aef7ec"
      },
      "source": [
        "### Exponentiation\n",
        "E = w**w\n",
        "E"
      ],
      "execution_count": null,
      "outputs": [
        {
          "output_type": "execute_result",
          "data": {
            "text/plain": [
              "256.0"
            ]
          },
          "metadata": {},
          "execution_count": 27
        }
      ]
    },
    {
      "cell_type": "code",
      "metadata": {
        "colab": {
          "base_uri": "https://localhost:8080/"
        },
        "id": "p_VCgJmVEjSt",
        "outputId": "581adb12-23fa-408e-ce1b-21cd1fc31bc4"
      },
      "source": [
        "### Modulo\n",
        "mod = z%x\n",
        "mod"
      ],
      "execution_count": null,
      "outputs": [
        {
          "output_type": "execute_result",
          "data": {
            "text/plain": [
              "-2.0"
            ]
          },
          "metadata": {},
          "execution_count": 28
        }
      ]
    },
    {
      "cell_type": "markdown",
      "metadata": {
        "id": "5fd_dn73ExL_"
      },
      "source": [
        "### Assignment Operations\n",
        "\n",
        "Assignment Operators give a variable a specific value. The one that is most commonly used is =. Simply type the name of the variable you want to assign a new value to, the =, and the value you want to assign to it to utilize it.\n",
        "\n",
        "The assignment operators operate are the following:\n",
        "\n",
        "\n",
        "\n",
        "*   *=\n",
        "*   /=\n",
        "*   **=\n",
        "*   //=\n",
        "*   %=\n",
        "\n"
      ]
    },
    {
      "cell_type": "code",
      "metadata": {
        "id": "Dn0pxIk-E17x"
      },
      "source": [
        "A, B, C, D, E = 0, 100, 2, 1, 2"
      ],
      "execution_count": null,
      "outputs": []
    },
    {
      "cell_type": "code",
      "metadata": {
        "colab": {
          "base_uri": "https://localhost:8080/"
        },
        "id": "QgXNs_oRFxS0",
        "outputId": "e0224436-32de-4be9-d494-695dbd60e283"
      },
      "source": [
        "A += w\n",
        "A"
      ],
      "execution_count": null,
      "outputs": [
        {
          "output_type": "execute_result",
          "data": {
            "text/plain": [
              "4.0"
            ]
          },
          "metadata": {},
          "execution_count": 14
        }
      ]
    },
    {
      "cell_type": "code",
      "metadata": {
        "colab": {
          "base_uri": "https://localhost:8080/"
        },
        "id": "aBg8C2B5F73v",
        "outputId": "6f0d230b-2b34-4d71-a99b-7cc061fc4a49"
      },
      "source": [
        "B -= x\n",
        "B"
      ],
      "execution_count": null,
      "outputs": [
        {
          "output_type": "execute_result",
          "data": {
            "text/plain": [
              "103.0"
            ]
          },
          "metadata": {},
          "execution_count": 15
        }
      ]
    },
    {
      "cell_type": "code",
      "metadata": {
        "colab": {
          "base_uri": "https://localhost:8080/"
        },
        "id": "B5kKLKWdGMip",
        "outputId": "f6f0ca3a-29e5-4043-ba62-d9fd7f247ba1"
      },
      "source": [
        "C *= w\n",
        "C"
      ],
      "execution_count": null,
      "outputs": [
        {
          "output_type": "execute_result",
          "data": {
            "text/plain": [
              "8.0"
            ]
          },
          "metadata": {},
          "execution_count": 16
        }
      ]
    },
    {
      "cell_type": "code",
      "metadata": {
        "colab": {
          "base_uri": "https://localhost:8080/"
        },
        "id": "sLATxPLfGdtt",
        "outputId": "9eec9a11-8c72-4683-c43e-71bcd56056a4"
      },
      "source": [
        "D /= x\n",
        "D"
      ],
      "execution_count": null,
      "outputs": [
        {
          "output_type": "execute_result",
          "data": {
            "text/plain": [
              "-0.3333333333333333"
            ]
          },
          "metadata": {},
          "execution_count": 17
        }
      ]
    },
    {
      "cell_type": "code",
      "metadata": {
        "colab": {
          "base_uri": "https://localhost:8080/"
        },
        "id": "C9h6xauPGlNE",
        "outputId": "81540f03-b0a6-473b-8bf9-9693b12f9bf7"
      },
      "source": [
        "E **= y\n",
        "E"
      ],
      "execution_count": null,
      "outputs": [
        {
          "output_type": "execute_result",
          "data": {
            "text/plain": [
              "4"
            ]
          },
          "metadata": {},
          "execution_count": 18
        }
      ]
    },
    {
      "cell_type": "markdown",
      "metadata": {
        "id": "9jTlxgFXAZxU"
      },
      "source": [
        ""
      ]
    },
    {
      "cell_type": "markdown",
      "metadata": {
        "id": "iBmr5vusGsYY"
      },
      "source": [
        "#### Comparators\n",
        "\n",
        "You can use comparison operators to compare the values of variables, as you might expect. They will always return a boolean value of True or False. There are a total of six of them:\n",
        "\n",
        "\n",
        "\n",
        "*   Equal: ==\n",
        "*   Not equal: !=\n",
        "*   Greater than: >\n",
        "*  Less than: <\n",
        "*   Greater than or equal: >=\n",
        "*   Less than or equal: <=\n",
        " \n",
        "\n",
        "\n",
        "\n",
        "\n",
        "\n",
        "\n",
        "\n",
        "\n",
        "\n"
      ]
    },
    {
      "cell_type": "code",
      "metadata": {
        "id": "kAW1RbD_G4Qp"
      },
      "source": [
        "size_1, size_2, size_3 = 1, 2.0,\"1\"\n",
        "true_size = 1.0"
      ],
      "execution_count": 13,
      "outputs": []
    },
    {
      "cell_type": "code",
      "metadata": {
        "colab": {
          "base_uri": "https://localhost:8080/"
        },
        "id": "D-pcKC0JHWN2",
        "outputId": "45591c98-25aa-402a-99ed-14c544b614d4"
      },
      "source": [
        "## Equality\n",
        "size_2 != true_size"
      ],
      "execution_count": 14,
      "outputs": [
        {
          "output_type": "execute_result",
          "data": {
            "text/plain": [
              "True"
            ]
          },
          "metadata": {},
          "execution_count": 14
        }
      ]
    },
    {
      "cell_type": "code",
      "metadata": {
        "colab": {
          "base_uri": "https://localhost:8080/"
        },
        "id": "MlwXMfAHHg8u",
        "outputId": "8d9c8860-24cd-4063-d0a8-593672ed036c"
      },
      "source": [
        "## Non - Equality\n",
        "s1 = size_1 > size_2\n",
        "s2 = size_1 < size_2/2\n",
        "true_size >= size_1\n",
        "size_2 <= true_size"
      ],
      "execution_count": 15,
      "outputs": [
        {
          "output_type": "execute_result",
          "data": {
            "text/plain": [
              "False"
            ]
          },
          "metadata": {},
          "execution_count": 15
        }
      ]
    },
    {
      "cell_type": "markdown",
      "metadata": {
        "id": "lvp0dgd1IDiW"
      },
      "source": [
        "#### Logical\n",
        "\n",
        "These may be recognizable to you already! They're known as logical connectives in logic. These are also commonly employed in human speech. They are as follows: and, or, and not.\n",
        "\n",
        "Only True if both operands (the two boolean objects you're comparing) are True. Consider the following scenario:"
      ]
    },
    {
      "cell_type": "code",
      "metadata": {
        "id": "rh_qh8NHIHp6",
        "colab": {
          "base_uri": "https://localhost:8080/"
        },
        "outputId": "128082a0-7a31-48b4-af24-0c324a22841c"
      },
      "source": [
        "size_1 == true_size"
      ],
      "execution_count": 16,
      "outputs": [
        {
          "output_type": "execute_result",
          "data": {
            "text/plain": [
              "True"
            ]
          },
          "metadata": {},
          "execution_count": 16
        }
      ]
    },
    {
      "cell_type": "code",
      "metadata": {
        "id": "MNlsV7SDIRDC"
      },
      "source": [
        "size_1 is true_size"
      ],
      "execution_count": null,
      "outputs": []
    },
    {
      "cell_type": "code",
      "metadata": {
        "id": "rkApUnyJIVEo"
      },
      "source": [
        "size_1 is not true_size"
      ],
      "execution_count": null,
      "outputs": []
    },
    {
      "cell_type": "code",
      "metadata": {
        "id": "tAislDovIdy3"
      },
      "source": [
        "P, Q = True, False\n",
        "conj = P and Q\n",
        "conj "
      ],
      "execution_count": null,
      "outputs": []
    },
    {
      "cell_type": "code",
      "metadata": {
        "id": "zJyRgetPI1HS"
      },
      "source": [
        "disj = P or Q\n",
        "disj"
      ],
      "execution_count": null,
      "outputs": []
    },
    {
      "cell_type": "code",
      "metadata": {
        "id": "unz0wUPvI-B9"
      },
      "source": [
        "nand = not(P and Q)\n",
        "nand"
      ],
      "execution_count": null,
      "outputs": []
    },
    {
      "cell_type": "code",
      "metadata": {
        "id": "m8m_KwnRJFg-"
      },
      "source": [
        "xor = (not P and Q) or (P and not Q)\n",
        "xor"
      ],
      "execution_count": null,
      "outputs": []
    },
    {
      "cell_type": "markdown",
      "metadata": {
        "id": "baXT80dfJV_T"
      },
      "source": [
        "#### Input and Output"
      ]
    },
    {
      "cell_type": "code",
      "metadata": {
        "colab": {
          "base_uri": "https://localhost:8080/"
        },
        "id": "lRNDJK8nJRlR",
        "outputId": "575cc6e2-bee3-4f77-db36-43d0502debf9"
      },
      "source": [
        "print(\"Hello World\")"
      ],
      "execution_count": null,
      "outputs": [
        {
          "output_type": "stream",
          "name": "stdout",
          "text": [
            "Hello World\n"
          ]
        }
      ]
    },
    {
      "cell_type": "code",
      "metadata": {
        "id": "jNHE8oHtJds8"
      },
      "source": [
        "cnt = 14000"
      ],
      "execution_count": null,
      "outputs": []
    },
    {
      "cell_type": "code",
      "metadata": {
        "colab": {
          "base_uri": "https://localhost:8080/"
        },
        "id": "wHns9U4UJiKe",
        "outputId": "74013e3c-0b64-4d5a-b8ac-92561c927a2f"
      },
      "source": [
        "string = \"Hello World!\"\n",
        "print(string, \", Current COVID count is: {cnt}\")\n",
        "cnt += 1000"
      ],
      "execution_count": null,
      "outputs": [
        {
          "output_type": "stream",
          "name": "stdout",
          "text": [
            "Hello World! , Current COVID count is: {cnt}\n"
          ]
        }
      ]
    },
    {
      "cell_type": "code",
      "metadata": {
        "colab": {
          "base_uri": "https://localhost:8080/"
        },
        "id": "3U1z1FHoKiWB",
        "outputId": "eaaee79b-04d4-45ce-fbdd-2fd27eec2e17"
      },
      "source": [
        "print(f\"{string}, current count is: {cnt}\")"
      ],
      "execution_count": null,
      "outputs": [
        {
          "output_type": "stream",
          "name": "stdout",
          "text": [
            "Hello World!, current count is: 15000\n"
          ]
        }
      ]
    },
    {
      "cell_type": "code",
      "metadata": {
        "colab": {
          "base_uri": "https://localhost:8080/"
        },
        "id": "hJuM-IblK6Si",
        "outputId": "39bf100c-4dd5-41af-de61-3df5c04789a1"
      },
      "source": [
        "sem_grade = 86.25\n",
        "name =\"Jamella\"\n",
        "print(\"Hello{}, your semestral grade is :{}\" . format(name, sem_grade))"
      ],
      "execution_count": null,
      "outputs": [
        {
          "output_type": "stream",
          "name": "stdout",
          "text": [
            "HelloJamella, your semestral grade is :86.25\n"
          ]
        }
      ]
    },
    {
      "cell_type": "code",
      "metadata": {
        "colab": {
          "base_uri": "https://localhost:8080/"
        },
        "id": "GMKlPFFuLeb9",
        "outputId": "a7a7bac9-4dbc-438a-bc49-3716d5ba273e"
      },
      "source": [
        "pg, mg, fg = 0.3, 0.3, 0.4\n",
        "print(\"The weights of your semestral grades are:\\\n",
        "\\n\\t {:.2%} for Prelims\\\n",
        "\\n\\t {:.2%} for Midterms, and\\\n",
        "\\n\\t\\ {:.2%} for Finals.\".format(pg, mg, fg))"
      ],
      "execution_count": null,
      "outputs": [
        {
          "output_type": "stream",
          "name": "stdout",
          "text": [
            "The weights of your semestral grades are:\n",
            "\t 30.00% for Prelims\n",
            "\t 30.00% for Midterms, and\n",
            "\t\\ 40.00% for Finals.\n"
          ]
        }
      ]
    },
    {
      "cell_type": "code",
      "metadata": {
        "id": "P2Ym97ZvNw4L"
      },
      "source": [
        "e = input(\"Enter a number:1\")"
      ],
      "execution_count": null,
      "outputs": []
    },
    {
      "cell_type": "code",
      "metadata": {
        "id": "lmk4O7d9N6Yw"
      },
      "source": [
        "name = input(\"Enter your name: \")\n",
        "pg = input(\"Enter prelim grade: \")\n",
        "mg = input(\"Enter midterm grade: \")\n",
        "fg = input(\"Enter final grade: \")\n",
        "sem_grade = None\n",
        "print(\"Hello{}, your semestral grade is: {}\".format(name, sem_grade))"
      ],
      "execution_count": null,
      "outputs": []
    },
    {
      "cell_type": "markdown",
      "metadata": {
        "id": "LFX729CATEBY"
      },
      "source": [
        "Looping Statements"
      ]
    },
    {
      "cell_type": "markdown",
      "metadata": {
        "id": "66iOqgeyTHdQ"
      },
      "source": [
        "While"
      ]
    },
    {
      "cell_type": "code",
      "metadata": {
        "id": "d2lSFStgTJHk"
      },
      "source": [
        "## while loops\n",
        "i, j = 0, 10\n",
        "while(i<=j):\n",
        "  print(f\"{i}\\t|\\t{j}\")\n",
        "  i +=1"
      ],
      "execution_count": null,
      "outputs": []
    },
    {
      "cell_type": "markdown",
      "metadata": {
        "id": "lwLThU3PUr3f"
      },
      "source": [
        "#### For"
      ]
    },
    {
      "cell_type": "code",
      "metadata": {
        "id": "g4p-Qlx4UugY"
      },
      "source": [
        "# for(int = 0); i<10; i++){\n",
        "# printf(i)\n",
        "# }\n",
        "\n",
        "i = 0\n",
        "for i in range(11):\n",
        "  print(i)\n",
        "  "
      ],
      "execution_count": null,
      "outputs": []
    },
    {
      "cell_type": "code",
      "metadata": {
        "id": "oRy6T10-VaQe"
      },
      "source": [
        "playlist = [\"Bahay Kubo\", \"Magandang Kanta\", \"Buko\"]\n",
        "print('Now Playing:\\n')\n",
        "for song in playlist:\n",
        "  print(song)\n",
        "  "
      ],
      "execution_count": null,
      "outputs": []
    },
    {
      "cell_type": "code",
      "metadata": {
        "id": "_dMZTCiHV3n6"
      },
      "source": [
        "num_1, num_2 = 14, 12\n",
        "if(num_1 == num_2):\n",
        "  print(\"HAHA\")\n",
        "elif(num_1>num_2):\n",
        "    print(\"HOHO\")\n",
        "else:\n",
        "  print(\"HUHU\")\n"
      ],
      "execution_count": null,
      "outputs": []
    },
    {
      "cell_type": "markdown",
      "metadata": {
        "id": "GmdNd04KWkJE"
      },
      "source": [
        "Functions"
      ]
    },
    {
      "cell_type": "code",
      "metadata": {
        "id": "xpMzzThtWlq0"
      },
      "source": [
        "# void DeleteUser {int userid}{\n",
        "# delete(userid);\n",
        "#}\n",
        "\n",
        "def delete_user (userid):\n",
        "  print(\"Succesfully deleted user {}\". format(userid))"
      ],
      "execution_count": null,
      "outputs": []
    },
    {
      "cell_type": "code",
      "metadata": {
        "id": "Ip76VlW2XPKD",
        "colab": {
          "base_uri": "https://localhost:8080/"
        },
        "outputId": "57d6e7d9-d05f-4146-a3f7-eed073b92998"
      },
      "source": [
        "userid = 2020_100100\n",
        "delete_user(2020_100100)"
      ],
      "execution_count": null,
      "outputs": [
        {
          "output_type": "stream",
          "name": "stdout",
          "text": [
            "Succesfully deleted user 2020100100\n"
          ]
        }
      ]
    },
    {
      "cell_type": "code",
      "metadata": {
        "id": "J7rmf73gXf_8"
      },
      "source": [
        "added1, added2 = 5, 6"
      ],
      "execution_count": null,
      "outputs": []
    },
    {
      "cell_type": "code",
      "metadata": {
        "id": "Pwont9PlXj7B"
      },
      "source": [
        "def add(added1, added2):\n",
        "  sum =added1 +added2\n",
        "  return sum\n"
      ],
      "execution_count": null,
      "outputs": []
    },
    {
      "cell_type": "code",
      "metadata": {
        "id": "_iDNR8sfXvo5",
        "colab": {
          "base_uri": "https://localhost:8080/"
        },
        "outputId": "2759dd21-ce9d-406d-90ca-a4c49c7dc68b"
      },
      "source": [
        "add(5, 4)"
      ],
      "execution_count": null,
      "outputs": [
        {
          "output_type": "execute_result",
          "data": {
            "text/plain": [
              "9"
            ]
          },
          "metadata": {},
          "execution_count": 7
        }
      ]
    },
    {
      "cell_type": "markdown",
      "metadata": {
        "id": "0gMdlawa62Gn"
      },
      "source": [
        "#### Conclusion\n",
        "\n",
        "Now I understand what operators are, how to use them, and how they function. Overloading, precedence, and associativity were also new concepts for me. I'm well on my way to becoming a Python expert."
      ]
    },
    {
      "cell_type": "markdown",
      "metadata": {
        "id": "nqwlkkfMKZBt"
      },
      "source": [
        "#### References:\n",
        "\n",
        "* Python arithmetic operators. GeeksforGeeks. (2020, August 29). https://www.geeksforgeeks.org/python-arithmetic-operators/. \n",
        "*  Python Operators. (n.d.). Retrieved from https://www.datacamp.com/community/tutorials/python-operators-tutorial?utm_source=adwords_ppc&utm_campaignid=1455363063&utm_adgroupid=65083631748&utm_device=c&utm_keyword=&utm_matchtype=b&utm_network=g&utm_adpostion=&utm_creative=332602034358&utm_targetid=dsa-429603003980&utm_loc_interest_ms=&utm_loc_physical_ms=20826&gclid=Cj0KCQjwssyJBhDXARIsAK98ITQVA9lqN-IP5iHOJKhVXmae_0RQMAyggdfQpXyoJwfglsVPmzlaPBQaAkxcEALw_wcB\n",
        "*  Waseem, M., 2021. Variables And Data Types In Python | Python For Beginners | Edureka. [online] Edureka. Available at: <https://www.edureka.co/blog/variables-and-data-types-in-python/> [Accessed 4 September 2021].\n",
        "\n",
        "\n",
        "\n"
      ]
    }
  ]
}